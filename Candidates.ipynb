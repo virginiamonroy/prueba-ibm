{
    "cells": [
        {
            "cell_type": "markdown",
            "metadata": {},
            "source": "- Autor: Virginia Monroy Malca\n- Este notebook es una adaptaci\u00f3n del contenido de Alain Chabrier\n- https://dataplatform.cloud.ibm.com/analytics/notebooks/v2/7d1e0d95-3386-4906-970d-029525bd743c/view?access_token=13618f0954cce214d8a0b1abf192af4bedbc99afd048f810df278d8f4f984253"
        },
        {
            "cell_type": "markdown",
            "metadata": {},
            "source": "# OPTIMIZACI\u00d3N DE OPERACIONES\n\nEste tutorial incluye todo lo que necesita para configurar el Modelado CPLEX de IBM Decision Optimization para Python (DOcplex), crear un modelo de Programaci\u00f3n matem\u00e1tica y obtener su soluci\u00f3n resolviendo el modelo con IBM ILOG CPLEX Optimizer.\n\nTabla de contenido:\n\n-  [Describiendo el problema del negocio](#Describiendo-el-problema-del-negocio)\n*  [Prepaci\u00f3n de los datos](#Preparaci\u00f3n-de-los-datos)\n*  [Use decision optimization](#Use-IBM-Decision-Optimization-CPLEX-Modeling-for-Python)\n    -  [Paso 1: Configurar el modelo](#Paso-1:-Configurar-el-modelo)\n        * [Define las variables de decisi\u00f3n](#Define-las-variables-de-decisi\u00f3n)\n        * [Define las restricciones](#Define-las-restricciones)\n        * [Expresa el objetivo](#Expresa-el-objectivo)\n        * [Reseuleve el modelo con DO](#Resuelve-el-modelo)\n    *  [Paso 2: Analizar la soluci\u00f3n](#Paso-2:-Analizar-la-soluci\u00f3n)\n*  [Exportar datos](#Exportar-datos)"
        },
        {
            "cell_type": "markdown",
            "metadata": {},
            "source": "## Describiendo el problema del negocio\n* Imagine que tiene la oportunidad de promocionar nuevos productos a sus clientes existentes. Puede decidir qu\u00e9 producto (y solo uno) ofrecer a cada uno de sus clientes.\n* Usted sabe el costo de ejecutar estas promociones y Machine Learning lo ayud\u00f3 a identificar los ingresos esperados de estos clientes de acuerdo con sus caracter\u00edsticas y utilizando un modelo capacitado con datos hist\u00f3ricos.\n<br>\n\nHay que respetar un conjunto de restricciones comerciales:\n\n* Como m\u00e1ximo debe haber una campa\u00f1a por cliente.\n* Como m\u00e1ximo deben haber 3 clientes por campa\u00f1a."
        },
        {
            "cell_type": "markdown",
            "metadata": {},
            "source": "## Preparaci\u00f3n de los datos\n* Importamos el token para poder cargar y guardar archivos."
        },
        {
            "cell_type": "code",
            "execution_count": 27,
            "metadata": {},
            "outputs": [],
            "source": "# The code was removed by Watson Studio for sharing."
        },
        {
            "cell_type": "markdown",
            "metadata": {},
            "source": "* Cargarmos el archivo subido en DATA."
        },
        {
            "cell_type": "code",
            "execution_count": 28,
            "metadata": {},
            "outputs": [],
            "source": "import pandas as pd"
        },
        {
            "cell_type": "code",
            "execution_count": 39,
            "metadata": {},
            "outputs": [],
            "source": "my_file = project.get_file(\"candidates.csv\")\ncandidates_df = pd.read_csv(my_file)"
        },
        {
            "cell_type": "code",
            "execution_count": 40,
            "metadata": {},
            "outputs": [
                {
                    "data": {
                        "text/html": "<div>\n<style scoped>\n    .dataframe tbody tr th:only-of-type {\n        vertical-align: middle;\n    }\n\n    .dataframe tbody tr th {\n        vertical-align: top;\n    }\n\n    .dataframe thead th {\n        text-align: right;\n    }\n</style>\n<table border=\"1\" class=\"dataframe\">\n  <thead>\n    <tr style=\"text-align: right;\">\n      <th></th>\n      <th>customer</th>\n      <th>campaign</th>\n      <th>revenue</th>\n    </tr>\n  </thead>\n  <tbody>\n    <tr>\n      <th>0</th>\n      <td>Customer 1</td>\n      <td>Home</td>\n      <td>70</td>\n    </tr>\n    <tr>\n      <th>1</th>\n      <td>Customer 2</td>\n      <td>Home</td>\n      <td>80</td>\n    </tr>\n    <tr>\n      <th>2</th>\n      <td>Customer 3</td>\n      <td>Home</td>\n      <td>90</td>\n    </tr>\n    <tr>\n      <th>3</th>\n      <td>Customer 4</td>\n      <td>Home</td>\n      <td>50</td>\n    </tr>\n    <tr>\n      <th>4</th>\n      <td>Customer 5</td>\n      <td>Home</td>\n      <td>100</td>\n    </tr>\n    <tr>\n      <th>5</th>\n      <td>Customer 6</td>\n      <td>Home</td>\n      <td>110</td>\n    </tr>\n    <tr>\n      <th>6</th>\n      <td>Customer 7</td>\n      <td>Home</td>\n      <td>20</td>\n    </tr>\n    <tr>\n      <th>7</th>\n      <td>Customer 8</td>\n      <td>Home</td>\n      <td>10</td>\n    </tr>\n    <tr>\n      <th>8</th>\n      <td>Customer 9</td>\n      <td>Home</td>\n      <td>0</td>\n    </tr>\n    <tr>\n      <th>9</th>\n      <td>Customer 10</td>\n      <td>Home</td>\n      <td>40</td>\n    </tr>\n    <tr>\n      <th>10</th>\n      <td>Customer 1</td>\n      <td>Auto</td>\n      <td>60</td>\n    </tr>\n    <tr>\n      <th>11</th>\n      <td>Customer 2</td>\n      <td>Auto</td>\n      <td>80</td>\n    </tr>\n    <tr>\n      <th>12</th>\n      <td>Customer 3</td>\n      <td>Auto</td>\n      <td>90</td>\n    </tr>\n    <tr>\n      <th>13</th>\n      <td>Customer 4</td>\n      <td>Auto</td>\n      <td>50</td>\n    </tr>\n    <tr>\n      <th>14</th>\n      <td>Customer 5</td>\n      <td>Auto</td>\n      <td>100</td>\n    </tr>\n    <tr>\n      <th>15</th>\n      <td>Customer 6</td>\n      <td>Auto</td>\n      <td>130</td>\n    </tr>\n    <tr>\n      <th>16</th>\n      <td>Customer 7</td>\n      <td>Auto</td>\n      <td>20</td>\n    </tr>\n    <tr>\n      <th>17</th>\n      <td>Customer 8</td>\n      <td>Auto</td>\n      <td>40</td>\n    </tr>\n    <tr>\n      <th>18</th>\n      <td>Customer 9</td>\n      <td>Auto</td>\n      <td>50</td>\n    </tr>\n    <tr>\n      <th>19</th>\n      <td>Customer 10</td>\n      <td>Auto</td>\n      <td>40</td>\n    </tr>\n    <tr>\n      <th>20</th>\n      <td>Customer 1</td>\n      <td>Travel</td>\n      <td>60</td>\n    </tr>\n    <tr>\n      <th>21</th>\n      <td>Customer 2</td>\n      <td>Travel</td>\n      <td>70</td>\n    </tr>\n    <tr>\n      <th>22</th>\n      <td>Customer 3</td>\n      <td>Travel</td>\n      <td>80</td>\n    </tr>\n    <tr>\n      <th>23</th>\n      <td>Customer 4</td>\n      <td>Travel</td>\n      <td>50</td>\n    </tr>\n    <tr>\n      <th>24</th>\n      <td>Customer 5</td>\n      <td>Travel</td>\n      <td>100</td>\n    </tr>\n    <tr>\n      <th>25</th>\n      <td>Customer 6</td>\n      <td>Travel</td>\n      <td>150</td>\n    </tr>\n    <tr>\n      <th>26</th>\n      <td>Customer 7</td>\n      <td>Travel</td>\n      <td>90</td>\n    </tr>\n    <tr>\n      <th>27</th>\n      <td>Customer 8</td>\n      <td>Travel</td>\n      <td>80</td>\n    </tr>\n    <tr>\n      <th>28</th>\n      <td>Customer 9</td>\n      <td>Travel</td>\n      <td>60</td>\n    </tr>\n    <tr>\n      <th>29</th>\n      <td>Customer 10</td>\n      <td>Travel</td>\n      <td>80</td>\n    </tr>\n  </tbody>\n</table>\n</div>",
                        "text/plain": "       customer campaign  revenue\n0    Customer 1     Home       70\n1    Customer 2     Home       80\n2    Customer 3     Home       90\n3    Customer 4     Home       50\n4    Customer 5     Home      100\n5    Customer 6     Home      110\n6    Customer 7     Home       20\n7    Customer 8     Home       10\n8    Customer 9     Home        0\n9   Customer 10     Home       40\n10   Customer 1     Auto       60\n11   Customer 2     Auto       80\n12   Customer 3     Auto       90\n13   Customer 4     Auto       50\n14   Customer 5     Auto      100\n15   Customer 6     Auto      130\n16   Customer 7     Auto       20\n17   Customer 8     Auto       40\n18   Customer 9     Auto       50\n19  Customer 10     Auto       40\n20   Customer 1   Travel       60\n21   Customer 2   Travel       70\n22   Customer 3   Travel       80\n23   Customer 4   Travel       50\n24   Customer 5   Travel      100\n25   Customer 6   Travel      150\n26   Customer 7   Travel       90\n27   Customer 8   Travel       80\n28   Customer 9   Travel       60\n29  Customer 10   Travel       80"
                    },
                    "execution_count": 40,
                    "metadata": {},
                    "output_type": "execute_result"
                }
            ],
            "source": "candidates_df"
        },
        {
            "cell_type": "markdown",
            "metadata": {},
            "source": "* Extrayendo la lista de clientes y campa\u00f1as"
        },
        {
            "cell_type": "code",
            "execution_count": 41,
            "metadata": {},
            "outputs": [],
            "source": "all_customers = candidates_df.customer.unique()\nall_campaigns = candidates_df.campaign.unique()\n\ncandidates_df.set_index(['customer', 'campaign'],inplace=True)"
        },
        {
            "cell_type": "code",
            "execution_count": 42,
            "metadata": {},
            "outputs": [
                {
                    "data": {
                        "text/plain": "array(['Customer 1', 'Customer 2', 'Customer 3', 'Customer 4',\n       'Customer 5', 'Customer 6', 'Customer 7', 'Customer 8',\n       'Customer 9', 'Customer 10'], dtype=object)"
                    },
                    "execution_count": 42,
                    "metadata": {},
                    "output_type": "execute_result"
                }
            ],
            "source": "all_customers"
        },
        {
            "cell_type": "code",
            "execution_count": 43,
            "metadata": {},
            "outputs": [
                {
                    "data": {
                        "text/plain": "array(['Home', 'Auto', 'Travel'], dtype=object)"
                    },
                    "execution_count": 43,
                    "metadata": {},
                    "output_type": "execute_result"
                }
            ],
            "source": "all_campaigns"
        },
        {
            "cell_type": "markdown",
            "metadata": {},
            "source": "## Use IBM Decision Optimization CPLEX Modeling for Python\n\nCree el modelo de optimizaci\u00f3n para seleccionar la mejor campa\u00f1a para cada cliente seg\u00fan sus ingresos."
        },
        {
            "cell_type": "markdown",
            "metadata": {},
            "source": "### Paso 1: Configurar el modelo\n\nConfigure el modelo prescriptivo utilizando el paquete de modelado de programaci\u00f3n matem\u00e1tica (docplex.mp).\n\n#### Crear el modelo"
        },
        {
            "cell_type": "code",
            "execution_count": 44,
            "metadata": {},
            "outputs": [],
            "source": "from docplex.mp.model import Model\nmdl = Model(name=\"Campaigns\")"
        },
        {
            "cell_type": "markdown",
            "metadata": {},
            "source": "#### Define las variables de decisi\u00f3n\n- Crear una variable de decisi\u00f3n binaria por posible asignaci\u00f3n (cliente - campa\u00f1a)"
        },
        {
            "cell_type": "code",
            "execution_count": 45,
            "metadata": {},
            "outputs": [],
            "source": "assignments = mdl.binary_var_matrix(keys1=all_customers, keys2=all_campaigns, name=lambda ns: \"Assignment %s_%s\" % (ns[0],ns[1]))"
        },
        {
            "cell_type": "code",
            "execution_count": 46,
            "metadata": {
                "scrolled": true
            },
            "outputs": [
                {
                    "data": {
                        "text/plain": "{('Customer 1',\n  'Home'): docplex.mp.Var(type=B,name='Assignment Customer 1_Home'),\n ('Customer 1',\n  'Auto'): docplex.mp.Var(type=B,name='Assignment Customer 1_Auto'),\n ('Customer 1',\n  'Travel'): docplex.mp.Var(type=B,name='Assignment Customer 1_Travel'),\n ('Customer 2',\n  'Home'): docplex.mp.Var(type=B,name='Assignment Customer 2_Home'),\n ('Customer 2',\n  'Auto'): docplex.mp.Var(type=B,name='Assignment Customer 2_Auto'),\n ('Customer 2',\n  'Travel'): docplex.mp.Var(type=B,name='Assignment Customer 2_Travel'),\n ('Customer 3',\n  'Home'): docplex.mp.Var(type=B,name='Assignment Customer 3_Home'),\n ('Customer 3',\n  'Auto'): docplex.mp.Var(type=B,name='Assignment Customer 3_Auto'),\n ('Customer 3',\n  'Travel'): docplex.mp.Var(type=B,name='Assignment Customer 3_Travel'),\n ('Customer 4',\n  'Home'): docplex.mp.Var(type=B,name='Assignment Customer 4_Home'),\n ('Customer 4',\n  'Auto'): docplex.mp.Var(type=B,name='Assignment Customer 4_Auto'),\n ('Customer 4',\n  'Travel'): docplex.mp.Var(type=B,name='Assignment Customer 4_Travel'),\n ('Customer 5',\n  'Home'): docplex.mp.Var(type=B,name='Assignment Customer 5_Home'),\n ('Customer 5',\n  'Auto'): docplex.mp.Var(type=B,name='Assignment Customer 5_Auto'),\n ('Customer 5',\n  'Travel'): docplex.mp.Var(type=B,name='Assignment Customer 5_Travel'),\n ('Customer 6',\n  'Home'): docplex.mp.Var(type=B,name='Assignment Customer 6_Home'),\n ('Customer 6',\n  'Auto'): docplex.mp.Var(type=B,name='Assignment Customer 6_Auto'),\n ('Customer 6',\n  'Travel'): docplex.mp.Var(type=B,name='Assignment Customer 6_Travel'),\n ('Customer 7',\n  'Home'): docplex.mp.Var(type=B,name='Assignment Customer 7_Home'),\n ('Customer 7',\n  'Auto'): docplex.mp.Var(type=B,name='Assignment Customer 7_Auto'),\n ('Customer 7',\n  'Travel'): docplex.mp.Var(type=B,name='Assignment Customer 7_Travel'),\n ('Customer 8',\n  'Home'): docplex.mp.Var(type=B,name='Assignment Customer 8_Home'),\n ('Customer 8',\n  'Auto'): docplex.mp.Var(type=B,name='Assignment Customer 8_Auto'),\n ('Customer 8',\n  'Travel'): docplex.mp.Var(type=B,name='Assignment Customer 8_Travel'),\n ('Customer 9',\n  'Home'): docplex.mp.Var(type=B,name='Assignment Customer 9_Home'),\n ('Customer 9',\n  'Auto'): docplex.mp.Var(type=B,name='Assignment Customer 9_Auto'),\n ('Customer 9',\n  'Travel'): docplex.mp.Var(type=B,name='Assignment Customer 9_Travel'),\n ('Customer 10',\n  'Home'): docplex.mp.Var(type=B,name='Assignment Customer 10_Home'),\n ('Customer 10',\n  'Auto'): docplex.mp.Var(type=B,name='Assignment Customer 10_Auto'),\n ('Customer 10',\n  'Travel'): docplex.mp.Var(type=B,name='Assignment Customer 10_Travel')}"
                    },
                    "execution_count": 46,
                    "metadata": {},
                    "output_type": "execute_result"
                }
            ],
            "source": "assignments"
        },
        {
            "cell_type": "markdown",
            "metadata": {},
            "source": "#### Define las restricciones\n- Como m\u00e1ximo debe haber una campa\u00f1a por cliente.\n- Como m\u00e1ximo deben haber 3 clientes por campa\u00f1a."
        },
        {
            "cell_type": "code",
            "execution_count": 47,
            "metadata": {},
            "outputs": [
                {
                    "name": "stdout",
                    "output_type": "stream",
                    "text": "Assignment Customer 1_Home+Assignment Customer 1_Auto+Assignment Customer 1_Travel <= 1\nAssignment Customer 2_Home+Assignment Customer 2_Auto+Assignment Customer 2_Travel <= 1\nAssignment Customer 3_Home+Assignment Customer 3_Auto+Assignment Customer 3_Travel <= 1\nAssignment Customer 4_Home+Assignment Customer 4_Auto+Assignment Customer 4_Travel <= 1\nAssignment Customer 5_Home+Assignment Customer 5_Auto+Assignment Customer 5_Travel <= 1\nAssignment Customer 6_Home+Assignment Customer 6_Auto+Assignment Customer 6_Travel <= 1\nAssignment Customer 7_Home+Assignment Customer 7_Auto+Assignment Customer 7_Travel <= 1\nAssignment Customer 8_Home+Assignment Customer 8_Auto+Assignment Customer 8_Travel <= 1\nAssignment Customer 9_Home+Assignment Customer 9_Auto+Assignment Customer 9_Travel <= 1\nAssignment Customer 10_Home+Assignment Customer 10_Auto+Assignment Customer 10_Travel <= 1\n"
                }
            ],
            "source": "# Como m\u00e1ximo una campa\u00f1a por cliente\nfor customer in all_customers:       \n    print(mdl.add_constraint( mdl.sum(assignments[customer, campaign] for campaign in all_campaigns) <= 1))"
        },
        {
            "cell_type": "code",
            "execution_count": 48,
            "metadata": {},
            "outputs": [],
            "source": "##assignments[customer, campaign]"
        },
        {
            "cell_type": "code",
            "execution_count": 49,
            "metadata": {},
            "outputs": [],
            "source": "##mdl.sum(assignments[customer, campaign] for campaign in all_campaigns)"
        },
        {
            "cell_type": "code",
            "execution_count": 50,
            "metadata": {},
            "outputs": [
                {
                    "name": "stdout",
                    "output_type": "stream",
                    "text": "Assignment Customer 1_Home+Assignment Customer 2_Home+Assignment Customer 3_Home+Assignment Customer 4_Home+Assignment Customer 5_Home+Assignment Customer 6_Home+Assignment Customer 7_Home+Assignment Customer 8_Home+Assignment Customer 9_Home+Assignment Customer 10_Home <= 3\nAssignment Customer 1_Auto+Assignment Customer 2_Auto+Assignment Customer 3_Auto+Assignment Customer 4_Auto+Assignment Customer 5_Auto+Assignment Customer 6_Auto+Assignment Customer 7_Auto+Assignment Customer 8_Auto+Assignment Customer 9_Auto+Assignment Customer 10_Auto <= 3\nAssignment Customer 1_Travel+Assignment Customer 2_Travel+Assignment Customer 3_Travel+Assignment Customer 4_Travel+Assignment Customer 5_Travel+Assignment Customer 6_Travel+Assignment Customer 7_Travel+Assignment Customer 8_Travel+Assignment Customer 9_Travel+Assignment Customer 10_Travel <= 3\n"
                }
            ],
            "source": "# Como m\u00e1ximo tres clientes por campa\u00f1a\nfor campaign in all_campaigns:       \n    print(mdl.add_constraint( mdl.sum(assignments[customer, campaign] for customer in all_customers) <= 3))"
        },
        {
            "cell_type": "code",
            "execution_count": 51,
            "metadata": {},
            "outputs": [],
            "source": "##mdl.sum(assignments[customer, campaign] for customer in all_customers)"
        },
        {
            "cell_type": "code",
            "execution_count": 52,
            "metadata": {},
            "outputs": [
                {
                    "name": "stdout",
                    "output_type": "stream",
                    "text": "Model: Campaigns\n - number of variables: 30\n   - binary=30, integer=0, continuous=0\n - number of constraints: 13\n   - linear=13\n - parameters: defaults\n - problem type is: MILP\n"
                }
            ],
            "source": "mdl.print_information()"
        },
        {
            "cell_type": "markdown",
            "metadata": {},
            "source": "#### Expresa el objetivo\n\nMaximice los ingresos esperados."
        },
        {
            "cell_type": "code",
            "execution_count": 55,
            "metadata": {},
            "outputs": [],
            "source": "expected_revenue = mdl.sum(assignments[customer, campaign] * candidates_df.revenue[customer, campaign] for customer in all_customers for campaign in all_campaigns)\n\nmdl.add_kpi(expected_revenue, \"Expected Revenue\");\nmdl.maximize(expected_revenue);\n"
        },
        {
            "cell_type": "code",
            "execution_count": 53,
            "metadata": {
                "scrolled": true
            },
            "outputs": [],
            "source": "#candidates_df"
        },
        {
            "cell_type": "code",
            "execution_count": 54,
            "metadata": {
                "scrolled": true
            },
            "outputs": [],
            "source": "#candidates_df.revenue[customer, campaign]"
        },
        {
            "cell_type": "code",
            "execution_count": 56,
            "metadata": {},
            "outputs": [],
            "source": "#print(mdl.sum(assignments[customer, campaign] * candidates_df.revenue[customer, campaign] for customer in all_customers for campaign in all_campaigns))"
        },
        {
            "cell_type": "markdown",
            "metadata": {},
            "source": "#### Resuelve el modelo"
        },
        {
            "cell_type": "code",
            "execution_count": 57,
            "metadata": {},
            "outputs": [
                {
                    "name": "stdout",
                    "output_type": "stream",
                    "text": "WARNING: Number of workers has been reduced to 1 to comply with platform limitations.\n"
                },
                {
                    "data": {
                        "text/html": "<div></div>",
                        "text/plain": "<IPython.core.display.HTML object>"
                    },
                    "metadata": {},
                    "output_type": "display_data"
                },
                {
                    "name": "stdout",
                    "output_type": "stream",
                    "text": "CPXPARAM_Read_DataCheck                          1\nCPXPARAM_Threads                                 1\nFound incumbent of value 0.000000 after 0.00 sec. (0.00 ticks)\nTried aggregator 1 time.\nMIP Presolve eliminated 0 rows and 1 columns.\nReduced MIP has 13 rows, 29 columns, and 58 nonzeros.\nReduced MIP has 29 binaries, 0 generals, 0 SOSs, and 0 indicators.\nPresolve time = 0.00 sec. (0.04 ticks)\nProbing time = 0.00 sec. (0.01 ticks)\nTried aggregator 1 time.\nReduced MIP has 13 rows, 29 columns, and 58 nonzeros.\nReduced MIP has 29 binaries, 0 generals, 0 SOSs, and 0 indicators.\nPresolve time = 0.00 sec. (0.04 ticks)\nProbing time = 0.00 sec. (0.01 ticks)\nClique table members: 10.\nMIP emphasis: balance optimality and feasibility.\nMIP search method: dynamic search.\nParallel mode: none, using 1 thread.\nRoot relaxation solution time = 0.00 sec. (0.03 ticks)\n\n        Nodes                                         Cuts/\n   Node  Left     Objective  IInf  Best Integer    Best Bound    ItCnt     Gap\n\n*     0+    0                            0.0000     2050.0000              --- \n*     0     0      integral     0      770.0000      770.0000       14    0.00%\nElapsed time = 0.06 sec. (0.17 ticks, tree = 0.00 MB, solutions = 2)\n\nRoot node processing (before b&c):\n  Real time             =    0.06 sec. (0.17 ticks)\nSequential b&c:\n  Real time             =    0.00 sec. (0.00 ticks)\n                          ------------\nTotal (root+branch&cut) =    0.06 sec. (0.17 ticks)\n"
                },
                {
                    "data": {
                        "text/html": "<div></div>",
                        "text/plain": "<IPython.core.display.HTML object>"
                    },
                    "metadata": {},
                    "output_type": "display_data"
                },
                {
                    "name": "stdout",
                    "output_type": "stream",
                    "text": "* model Campaigns solved with objective = 770\n*  KPI: Expected Revenue = 770.000\n"
                }
            ],
            "source": "s = mdl.solve(log_output=True)\nassert s, \"solve failed\"\nmdl.report()"
        },
        {
            "cell_type": "markdown",
            "metadata": {},
            "source": "### Paso 2: Analizar la soluci\u00f3n\n\nPrimero, muestre la **Campa\u00f1a \u00f3ptima por cliente**."
        },
        {
            "cell_type": "code",
            "execution_count": 69,
            "metadata": {},
            "outputs": [
                {
                    "data": {
                        "text/plain": "all_customers  all_campaigns\nCustomer 1     Home             1.0\nCustomer 10    Travel           1.0\nCustomer 2     Auto             1.0\nCustomer 3     Auto             1.0\nCustomer 4     Home             1.0\nCustomer 5     Home             1.0\nCustomer 6     Auto             1.0\nCustomer 7     Travel           1.0\nCustomer 8     Travel           1.0\nName: assignment, dtype: float64"
                    },
                    "metadata": {},
                    "output_type": "display_data"
                }
            ],
            "source": "# Extraer el valor de la soluci\u00f3n en un dataframe\nassignments_df = pd.DataFrame({'assignment': assignments})\nassignments_df.index.names=['all_customers', 'all_campaigns']\nassignments_df = assignments_df.assignment.apply(lambda v: v.solution_value)\n\n# Mantener solo los assigments seleccionados\nassignments_df = assignments_df[assignments_df ==1]\ndisplay(assignments_df)"
        },
        {
            "cell_type": "markdown",
            "metadata": {},
            "source": "# Exportar datos"
        },
        {
            "cell_type": "code",
            "execution_count": 72,
            "metadata": {},
            "outputs": [
                {
                    "name": "stderr",
                    "output_type": "stream",
                    "text": "/opt/conda/envs/Python36/lib/python3.6/site-packages/ipykernel/__main__.py:1: FutureWarning: The signature of `Series.to_csv` was aligned to that of `DataFrame.to_csv`, and argument 'header' will change its default value from False to True: please pass an explicit value to suppress this warning.\n  if __name__ == '__main__':\n"
                },
                {
                    "data": {
                        "text/plain": "{'file_name': 'df_export.csv',\n 'message': 'File saved to project storage.',\n 'bucket_name': 'workshoppacfico-donotdelete-pr-hwikylsfyocyxe',\n 'asset_id': '8ca51730-17e7-454a-9240-44ee5cfba7c8'}"
                    },
                    "execution_count": 72,
                    "metadata": {},
                    "output_type": "execute_result"
                }
            ],
            "source": "project.save_data(data=assignments_df.to_csv(index=False),file_name='cliente_campana_opt.csv',overwrite=True)"
        },
        {
            "cell_type": "code",
            "execution_count": null,
            "metadata": {},
            "outputs": [],
            "source": ""
        }
    ],
    "metadata": {
        "kernelspec": {
            "display_name": "Python 3.6",
            "language": "python",
            "name": "python3"
        },
        "language_info": {
            "codemirror_mode": {
                "name": "ipython",
                "version": 3
            },
            "file_extension": ".py",
            "mimetype": "text/x-python",
            "name": "python",
            "nbconvert_exporter": "python",
            "pygments_lexer": "ipython3",
            "version": "3.6.9"
        }
    },
    "nbformat": 4,
    "nbformat_minor": 1
}